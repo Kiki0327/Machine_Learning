{
 "cells": [
  {
   "cell_type": "code",
   "execution_count": 1,
   "metadata": {},
   "outputs": [],
   "source": [
    "import transcription as tr"
   ]
  },
  {
   "cell_type": "code",
   "execution_count": 2,
   "metadata": {},
   "outputs": [],
   "source": [
    "path = 'C:/Users/nicol/Documents/Proyectos/Audios/'\n",
    "models = ['tiny', 'base', 'small', 'medium', 'large']"
   ]
  },
  {
   "cell_type": "code",
   "execution_count": 3,
   "metadata": {},
   "outputs": [
    {
     "name": "stdout",
     "output_type": "stream",
     "text": [
      "Iniciando process con el modelo: tiny\n",
      "Cantidad de archivos:1 \n",
      "Primeros cinco archivos:\n",
      "['C:/Users/nicol/Documents/Proyectos/Audios/output_audio.mp3']\n",
      "Tiempo de ejecución: 0:00:26.762014\n",
      "Transcripción guardada con exito\n",
      "========================================================================================================================\n",
      "Iniciando process con el modelo: base\n",
      "Cantidad de archivos:1 \n",
      "Primeros cinco archivos:\n",
      "['C:/Users/nicol/Documents/Proyectos/Audios/output_audio.mp3']\n",
      "Tiempo de ejecución: 0:00:38.832791\n",
      "Transcripción guardada con exito\n",
      "========================================================================================================================\n",
      "Iniciando process con el modelo: small\n",
      "Cantidad de archivos:1 \n",
      "Primeros cinco archivos:\n",
      "['C:/Users/nicol/Documents/Proyectos/Audios/output_audio.mp3']\n"
     ]
    },
    {
     "name": "stderr",
     "output_type": "stream",
     "text": [
      "100%|███████████████████████████████████████| 461M/461M [00:49<00:00, 9.84MiB/s]\n"
     ]
    },
    {
     "name": "stdout",
     "output_type": "stream",
     "text": [
      "Tiempo de ejecución: 0:01:42.077812\n",
      "Transcripción guardada con exito\n",
      "========================================================================================================================\n",
      "Iniciando process con el modelo: medium\n",
      "Cantidad de archivos:1 \n",
      "Primeros cinco archivos:\n",
      "['C:/Users/nicol/Documents/Proyectos/Audios/output_audio.mp3']\n"
     ]
    },
    {
     "name": "stderr",
     "output_type": "stream",
     "text": [
      "100%|█████████████████████████████████████| 1.42G/1.42G [02:37<00:00, 9.68MiB/s]\n"
     ]
    },
    {
     "name": "stdout",
     "output_type": "stream",
     "text": [
      "Tiempo de ejecución: 0:04:50.484418\n",
      "Transcripción guardada con exito\n",
      "========================================================================================================================\n",
      "Iniciando process con el modelo: large\n",
      "Cantidad de archivos:1 \n",
      "Primeros cinco archivos:\n",
      "['C:/Users/nicol/Documents/Proyectos/Audios/output_audio.mp3']\n"
     ]
    },
    {
     "name": "stderr",
     "output_type": "stream",
     "text": [
      "100%|█████████████████████████████████████| 2.88G/2.88G [05:31<00:00, 9.30MiB/s]\n"
     ]
    },
    {
     "name": "stdout",
     "output_type": "stream",
     "text": [
      "Tiempo de ejecución: 0:09:07.126074\n",
      "Transcripción guardada con exito\n",
      "========================================================================================================================\n"
     ]
    }
   ],
   "source": [
    "for i in models:\n",
    "    print(f'Iniciando process con el modelo: {i}')\n",
    "    tr.process_transcripcion(path=path, model_name=i)\n",
    "    print('='*120)"
   ]
  }
 ],
 "metadata": {
  "kernelspec": {
   "display_name": "analisis_audio_env",
   "language": "python",
   "name": "python3"
  },
  "language_info": {
   "codemirror_mode": {
    "name": "ipython",
    "version": 3
   },
   "file_extension": ".py",
   "mimetype": "text/x-python",
   "name": "python",
   "nbconvert_exporter": "python",
   "pygments_lexer": "ipython3",
   "version": "3.12.3"
  }
 },
 "nbformat": 4,
 "nbformat_minor": 2
}
